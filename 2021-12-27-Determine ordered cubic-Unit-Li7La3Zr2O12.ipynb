{
 "cells": [
  {
   "cell_type": "code",
   "execution_count": 1,
   "id": "b67553cf-368f-4084-ac86-3c110497347b",
   "metadata": {
    "tags": []
   },
   "outputs": [],
   "source": [
    "from pymatgen.core.structure import Structure\n",
    "from pymatgen.analysis.ewald import EwaldSummation\n",
    "import numpy as np\n",
    "from tqdm import tqdm"
   ]
  },
  {
   "cell_type": "code",
   "execution_count": 2,
   "id": "5862d39a-bd07-4dc6-8979-5e7db2d095c2",
   "metadata": {},
   "outputs": [],
   "source": [
    "def electrostatic_energy(structure, oxidation_states):\n",
    "    structure.add_oxidation_state_by_element(oxidation_states)\n",
    "    total_electrostatic_energy = EwaldSummation(structure, acc_factor=12.0).total_energy\n",
    "    return total_electrostatic_energy"
   ]
  },
  {
   "cell_type": "code",
   "execution_count": 3,
   "id": "13627438-c6e2-4ff3-9295-3206de244eb3",
   "metadata": {},
   "outputs": [
    {
     "name": "stdout",
     "output_type": "stream",
     "text": [
      "The composition after adjustments is Li15La3Zr2O12.\n"
     ]
    }
   ],
   "source": [
    "structure = Structure.from_file(\"ICSD_CollCode422259.cif\")\n",
    "\n",
    "for i, site in enumerate(structure):\n",
    "    if not site.is_ordered:\n",
    "        structure[i] = {\"Li+\": 1}\n",
    "print(\"The composition after adjustments is %s.\" % structure.composition.reduced_formula)"
   ]
  },
  {
   "cell_type": "code",
   "execution_count": 4,
   "id": "ec3686ec-0971-4d5d-81c2-26d43b91c3dc",
   "metadata": {},
   "outputs": [],
   "source": [
    "tet_site = structure[0:24]\n",
    "oct_site = structure[24:120]"
   ]
  },
  {
   "cell_type": "code",
   "execution_count": 5,
   "id": "feb69e43-2ebf-4ebc-a401-71d22c452860",
   "metadata": {},
   "outputs": [],
   "source": [
    "def liindex(structure):\n",
    "    li = []\n",
    "    for i, site in enumerate(structure):\n",
    "        if site.species_string == 'Li+':\n",
    "            li.append(i)\n",
    "    return li\n",
    "\n",
    "def get_removed_li_structure(structure):\n",
    "    global remove_t\n",
    "    global remove_o\n",
    "    ee = []\n",
    "    for i in liindex(structure):\n",
    "        s = structure.copy()\n",
    "        s.remove_sites([i])\n",
    "        e = electrostatic_energy(s, oxidation_states={\"Li\":1,\"La\":3,\"Zr\":4,\"O\":-2})\n",
    "        ee.append(e)\n",
    "    ss = structure.copy()\n",
    "    ss.remove_sites([ee.index(min(ee))])\n",
    "    if structure[ee.index(min(ee))] in tet_site:\n",
    "        remove_t +=1\n",
    "    else:\n",
    "        remove_o +=1   \n",
    "    return ss\n",
    "def get_removed_li_structure_14(structure):\n",
    "    ee = []\n",
    "    for i in liindex(structure)[10:]:\n",
    "        s = structure.copy()\n",
    "        s.remove_sites([i])\n",
    "        e = electrostatic_energy(s, oxidation_states={\"Li\":1,\"La\":3,\"Zr\":4,\"O\":-2})\n",
    "        ee.append(e)\n",
    "    ss = structure.copy()\n",
    "    ss.remove_sites([ee.index(min(ee))])   \n",
    "    return ss\n",
    "def get_removed_li_structure_50(structure):\n",
    "    ee = []\n",
    "    for i in liindex(structure)[:-46]:\n",
    "        s = structure.copy()\n",
    "        s.remove_sites([i])\n",
    "        e = electrostatic_energy(s, oxidation_states={\"Li\":1,\"La\":3,\"Zr\":4,\"O\":-2})\n",
    "        ee.append(e)\n",
    "    ss = structure.copy()\n",
    "    ss.remove_sites([ee.index(min(ee))])   \n",
    "    return ss"
   ]
  },
  {
   "cell_type": "code",
   "execution_count": null,
   "id": "c257c9b9-16e6-4c88-866c-f79a8caf60e5",
   "metadata": {},
   "outputs": [
    {
     "name": "stderr",
     "output_type": "stream",
     "text": [
      "  0%|                                                    | 0/63 [00:00<?, ?it/s]"
     ]
    }
   ],
   "source": [
    "remove_t = 0\n",
    "remove_o = 0\n",
    "sss = get_removed_li_structure(structure)   #移除1次\n",
    "for i in tqdm(np.arange(0,63)):    #再移除63次\n",
    "    if remove_t == 14:    #判断是否已经移除了14个四面体Li1\n",
    "        sss = get_removed_li_structure_14(sss)\n",
    "    elif remove_o == 50:  #判断是否已经移除了50个八面体Li2\n",
    "        sss = get_removed_li_structure_50(sss)\n",
    "    else:   \n",
    "        sss = get_removed_li_structure(sss)"
   ]
  },
  {
   "cell_type": "code",
   "execution_count": null,
   "id": "5fcb9ed4-fd85-4b54-9ca1-7a3408a54d29",
   "metadata": {},
   "outputs": [],
   "source": [
    "sss.to(filename='cubic-Li7La3Zr2O12.cif')"
   ]
  },
  {
   "cell_type": "code",
   "execution_count": null,
   "id": "eac97c15-c120-48e5-88dc-402574322a4a",
   "metadata": {},
   "outputs": [],
   "source": []
  }
 ],
 "metadata": {
  "kernelspec": {
   "display_name": "Python 3 (ipykernel)",
   "language": "python",
   "name": "python3"
  },
  "language_info": {
   "codemirror_mode": {
    "name": "ipython",
    "version": 3
   },
   "file_extension": ".py",
   "mimetype": "text/x-python",
   "name": "python",
   "nbconvert_exporter": "python",
   "pygments_lexer": "ipython3",
   "version": "3.9.7"
  },
  "vscode": {
   "interpreter": {
    "hash": "2a40e4a388ba0fc4c28d97114ebb1847fe99636497191ec131ba8c433cb260c3"
   }
  }
 },
 "nbformat": 4,
 "nbformat_minor": 5
}
